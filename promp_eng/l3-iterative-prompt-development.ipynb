{
 "cells": [
  {
   "cell_type": "markdown",
   "source": [
    "# Iterative Prompt Development\n",
    "In this lesson, you'll iteratively analyze and refine your prompts to generate marketing copy from a product fact sheet.\n",
    "\n",
    "## Setup"
   ],
   "metadata": {
    "collapsed": false
   },
   "id": "f871bc91716ce230"
  },
  {
   "cell_type": "code",
   "outputs": [],
   "source": [
    "import openai\n",
    "import os\n",
    "\n",
    "# from dotenv import load_dotenv, find_dotenv\n",
    "# _ = load_dotenv(find_dotenv()) # read local .env file\n",
    "\n",
    "# openai.api_key  = os.getenv('OPENAI_API_KEY')\n",
    "openai.api_key  = \"\""
   ],
   "metadata": {
    "collapsed": false,
    "ExecuteTime": {
     "end_time": "2024-03-19T13:46:30.912311Z",
     "start_time": "2024-03-19T13:46:30.036194Z"
    }
   },
   "id": "3654a23722807997",
   "execution_count": 1
  },
  {
   "cell_type": "code",
   "outputs": [],
   "source": [
    "client = openai.AsyncOpenAI(\n",
    "  api_key=openai.api_key,  # this is also the default, it can be omitted\n",
    ")\n",
    "\n",
    "\n",
    "async def get_completion(prompt_, model_=\"gpt-3.5-turbo\"):\n",
    "    messages_ = [{\"role\": \"user\", \"content\": prompt_}]\n",
    "    response_ = await client.chat.completions.create(\n",
    "        model=model_, \n",
    "        messages=messages_,\n",
    "    )\n",
    "    return response_.choices[0].message.content"
   ],
   "metadata": {
    "collapsed": false,
    "ExecuteTime": {
     "end_time": "2024-03-19T13:46:49.858335Z",
     "start_time": "2024-03-19T13:46:49.836582Z"
    }
   },
   "id": "3b1a4d8c93214e94",
   "execution_count": 2
  },
  {
   "cell_type": "markdown",
   "source": [
    "**Note**: In June 2023, OpenAI updated gpt-3.5-turbo. The results you see in the notebook may be slightly different than those in the video. Some of the prompts have also been slightly modified to product the desired results."
   ],
   "metadata": {
    "collapsed": false
   },
   "id": "e3be4c6d6b0589e6"
  },
  {
   "cell_type": "markdown",
   "source": [
    "## Generate a marketing product description from a product fact sheet"
   ],
   "metadata": {
    "collapsed": false
   },
   "id": "b73936681e282e20"
  },
  {
   "cell_type": "code",
   "outputs": [],
   "source": [
    "fact_sheet_chair = \"\"\"\n",
    "OVERVIEW\n",
    "- Part of a beautiful family of mid-century inspired office furniture, \n",
    "including filing cabinets, desks, bookcases, meeting tables, and more.\n",
    "- Several options of shell color and base finishes.\n",
    "- Available with plastic back and front upholstery (SWC-100) \n",
    "or full upholstery (SWC-110) in 10 fabric and 6 leather options.\n",
    "- Base finish options are: stainless steel, matte black, \n",
    "gloss white, or chrome.\n",
    "- Chair is available with or without armrests.\n",
    "- Suitable for home or business settings.\n",
    "- Qualified for contract use.\n",
    "\n",
    "CONSTRUCTION\n",
    "- 5-wheel plastic coated aluminum base.\n",
    "- Pneumatic chair adjust for easy raise/lower action.\n",
    "\n",
    "DIMENSIONS\n",
    "- WIDTH 53 CM | 20.87”\n",
    "- DEPTH 51 CM | 20.08”\n",
    "- HEIGHT 80 CM | 31.50”\n",
    "- SEAT HEIGHT 44 CM | 17.32”\n",
    "- SEAT DEPTH 41 CM | 16.14”\n",
    "\n",
    "OPTIONS\n",
    "- Soft or hard-floor caster options.\n",
    "- Two choices of seat foam densities: \n",
    " medium (1.8 lb/ft3) or high (2.8 lb/ft3)\n",
    "- Armless or 8 position PU armrests \n",
    "\n",
    "MATERIALS\n",
    "SHELL BASE GLIDER\n",
    "- Cast Aluminum with modified nylon PA6/PA66 coating.\n",
    "- Shell thickness: 10 mm.\n",
    "SEAT\n",
    "- HD36 foam\n",
    "\n",
    "COUNTRY OF ORIGIN\n",
    "- Italy\n",
    "\"\"\""
   ],
   "metadata": {
    "collapsed": false,
    "ExecuteTime": {
     "end_time": "2024-03-19T13:47:30.747252Z",
     "start_time": "2024-03-19T13:47:30.741558Z"
    }
   },
   "id": "635da2dbc24a79cd",
   "execution_count": 3
  },
  {
   "cell_type": "code",
   "outputs": [
    {
     "name": "stdout",
     "output_type": "stream",
     "text": [
      "Introducing our stylish and versatile Mid-Century Office Chair, a perfect addition to any modern workspace. This chair is part of a stunning family of office furniture that includes filing cabinets, desks, bookcases, meeting tables, and more, all inspired by mid-century design aesthetics.\n",
      "\n",
      "Designed with customization in mind, our Mid-Century Office Chair comes in a variety of shell colors and base finishes to suit your preferences. You can choose between plastic back and front upholstery or full upholstery in a selection of 10 fabric and 6 leather options. The base finish options include stainless steel, matte black, gloss white, or chrome, allowing you to create a look that matches your space perfectly.\n",
      "\n",
      "Constructed with durability and comfort in mind, this chair features a 5-wheel plastic coated aluminum base and a pneumatic chair adjust for easy raise/lower action. With dimensions of 53 cm in width, 51 cm in depth, and 80 cm in height, this chair is suitable for both home and business settings and is qualified for contract use.\n",
      "\n",
      "In terms of options, you can choose between soft or hard-floor caster options, two seat foam densities (medium or high), and armless or 8 position PU armrests for added comfort. The materials used in the construction of this chair include cast aluminum with modified nylon PA6/PA66 coating for the shell base glider, and HD36 foam for the seat.\n",
      "\n",
      "This sleek and functional Mid-Century Office Chair is made in Italy, guaranteeing quality craftsmanship and attention to detail. Elevate your workspace with this elegant and practical seating solution that combines style, comfort, and durability in one.\n"
     ]
    }
   ],
   "source": [
    "prompt = f\"\"\"\n",
    "Your task is to help a marketing team create a \n",
    "description for a retail website of a product based \n",
    "on a technical fact sheet.\n",
    "\n",
    "Write a product description based on the information \n",
    "provided in the technical specifications delimited by \n",
    "triple backticks.\n",
    "\n",
    "Technical specifications: ```{fact_sheet_chair}```\n",
    "\"\"\"\n",
    "response = await get_completion(prompt)\n",
    "print(response)"
   ],
   "metadata": {
    "collapsed": false,
    "ExecuteTime": {
     "end_time": "2024-03-19T13:47:50.877735Z",
     "start_time": "2024-03-19T13:47:44.463110Z"
    }
   },
   "id": "2f20ab435fd08911",
   "execution_count": 4
  },
  {
   "cell_type": "markdown",
   "source": [
    "## Issue 1: The text is too long \n",
    "- Limit the number of words/sentences/characters."
   ],
   "metadata": {
    "collapsed": false
   },
   "id": "546b6d9053116d15"
  },
  {
   "cell_type": "code",
   "outputs": [
    {
     "name": "stdout",
     "output_type": "stream",
     "text": [
      "Introducing our versatile and stylish office chair, part of a stunning mid-century inspired furniture collection. Choose from a range of colors and finishes to suit your space. With ergonomic design features and durable construction, this chair is ideal for any home or business setting. Made in Italy.\n"
     ]
    }
   ],
   "source": [
    "prompt = f\"\"\"\n",
    "Your task is to help a marketing team create a \n",
    "description for a retail website of a product based \n",
    "on a technical fact sheet.\n",
    "\n",
    "Write a product description based on the information \n",
    "provided in the technical specifications delimited by \n",
    "triple backticks.\n",
    "\n",
    "Use at most 50 words.\n",
    "\n",
    "Technical specifications: ```{fact_sheet_chair}```\n",
    "\"\"\"\n",
    "response = await get_completion(prompt)\n",
    "print(response)"
   ],
   "metadata": {
    "collapsed": false,
    "ExecuteTime": {
     "end_time": "2024-03-19T13:54:00.008396Z",
     "start_time": "2024-03-19T13:53:58.116215Z"
    }
   },
   "id": "914b1450b752df50",
   "execution_count": 7
  },
  {
   "cell_type": "code",
   "outputs": [
    {
     "data": {
      "text/plain": "47"
     },
     "execution_count": 8,
     "metadata": {},
     "output_type": "execute_result"
    }
   ],
   "source": [
    "len(response.split())"
   ],
   "metadata": {
    "collapsed": false,
    "ExecuteTime": {
     "end_time": "2024-03-19T13:54:04.492077Z",
     "start_time": "2024-03-19T13:54:04.484835Z"
    }
   },
   "id": "97c7f4cbad58d7be",
   "execution_count": 8
  },
  {
   "cell_type": "markdown",
   "source": [
    "## Issue 2. Text focuses on the wrong details\n",
    "- Ask it to focus on the aspects that are relevant to the intended audience."
   ],
   "metadata": {
    "collapsed": false
   },
   "id": "f2ca6caf21ca448"
  },
  {
   "cell_type": "code",
   "outputs": [
    {
     "name": "stdout",
     "output_type": "stream",
     "text": [
      "Introducing our mid-century inspired office chair, crafted with high-quality materials for durability and style. Choose from a variety of shell colors and base finishes to suit your space perfectly. With options for plastic or full upholstery in various fabrics and leathers, this chair is suitable for both home and business settings. Made in Italy, this chair features a 5-wheel plastic-coated aluminum base for easy movement and a pneumatic adjust for effortless height adjustments. Add the perfect finishing touch to your workspace with this versatile and elegant chair.\n"
     ]
    }
   ],
   "source": [
    "prompt = f\"\"\"\n",
    "Your task is to help a marketing team create a \n",
    "description for a retail website of a product based \n",
    "on a technical fact sheet.\n",
    "\n",
    "Write a product description based on the information \n",
    "provided in the technical specifications delimited by \n",
    "triple backticks.\n",
    "\n",
    "The description is intended for furniture retailers, \n",
    "so should be technical in nature and focus on the \n",
    "materials the product is constructed from.\n",
    "\n",
    "Use at most 50 words.\n",
    "\n",
    "Technical specifications: ```{fact_sheet_chair}```\n",
    "\"\"\"\n",
    "response = await get_completion(prompt)\n",
    "print(response)"
   ],
   "metadata": {
    "collapsed": false,
    "ExecuteTime": {
     "end_time": "2024-03-19T13:55:00.100897Z",
     "start_time": "2024-03-19T13:54:57.658101Z"
    }
   },
   "id": "aa65f1367f4c7a93",
   "execution_count": 11
  },
  {
   "cell_type": "code",
   "outputs": [
    {
     "name": "stdout",
     "output_type": "stream",
     "text": [
      "Introducing our versatile and stylish office chair, featuring a durable 5-wheel plastic coated aluminum base and adjustable pneumatic chair for easy customization. Choose from a variety of shell colors, base finishes, and upholstery options to suit any space. Designed for both home and business settings. Product IDs: SWC-100, SWC-110.\n"
     ]
    }
   ],
   "source": [
    "prompt = f\"\"\"\n",
    "Your task is to help a marketing team create a \n",
    "description for a retail website of a product based \n",
    "on a technical fact sheet.\n",
    "\n",
    "Write a product description based on the information \n",
    "provided in the technical specifications delimited by \n",
    "triple backticks.\n",
    "\n",
    "The description is intended for furniture retailers, \n",
    "so should be technical in nature and focus on the \n",
    "materials the product is constructed from.\n",
    "\n",
    "At the end of the description, include every 7-character \n",
    "Product ID in the technical specification.\n",
    "\n",
    "Use at most 50 words.\n",
    "\n",
    "Technical specifications: ```{fact_sheet_chair}```\n",
    "\"\"\"\n",
    "response = await get_completion(prompt)\n",
    "print(response)"
   ],
   "metadata": {
    "collapsed": false,
    "ExecuteTime": {
     "end_time": "2024-03-19T13:55:18.346240Z",
     "start_time": "2024-03-19T13:55:16.638230Z"
    }
   },
   "id": "b128b2603f5b4103",
   "execution_count": 12
  },
  {
   "cell_type": "markdown",
   "source": [
    "## Issue 3. Description needs a table of dimensions\n",
    "- Ask it to extract information and organize it in a table."
   ],
   "metadata": {
    "collapsed": false
   },
   "id": "188f90f17868369b"
  },
  {
   "cell_type": "code",
   "outputs": [
    {
     "name": "stdout",
     "output_type": "stream",
     "text": [
      "<div>\n",
      "<p>This mid-century inspired office chair is a versatile and stylish addition to any workspace. Constructed with a 5-wheel plastic coated aluminum base, this chair is durable and easy to move around. The pneumatic chair adjust feature allows for a seamless raise/lower action for personalized comfort.</p>\n",
      "<p>The seat of this chair is crafted with high-quality HD36 foam, ensuring long-lasting comfort and support. The shell base glider is made of cast aluminum with a modified nylon PA6/PA66 coating, providing a sleek and modern look. With a shell thickness of 10 mm, this chair is both sturdy and elegant.</p>\n",
      "<p>Available in a variety of shell colors and base finishes, as well as different upholstery options, this chair can be customized to fit any design aesthetic. Whether for home or business use, this chair is suitable for any setting and is qualified for contract use.</p>\n",
      "<p>Product ID: SWC-100, SWC-110</p>\n",
      "</div>\n",
      "\n",
      "<table>\n",
      "  <caption>Product Dimensions</caption>\n",
      "  <tr>\n",
      "    <th>Dimension</th>\n",
      "    <th>Measurements (in)</th>\n",
      "  </tr>\n",
      "  <tr>\n",
      "    <td>Width</td>\n",
      "    <td>20.87\"</td>\n",
      "  </tr>\n",
      "  <tr>\n",
      "    <td>Depth</td>\n",
      "    <td>20.08\"</td>\n",
      "  </tr>\n",
      "  <tr>\n",
      "    <td>Height</td>\n",
      "    <td>31.50\"</td>\n",
      "  </tr>\n",
      "  <tr>\n",
      "    <td>Seat Height</td>\n",
      "    <td>17.32\"</td>\n",
      "  </tr>\n",
      "  <tr>\n",
      "    <td>Seat Depth</td>\n",
      "    <td>16.14\"</td>\n",
      "  </tr>\n",
      "</table>\n"
     ]
    }
   ],
   "source": [
    "prompt = f\"\"\"\n",
    "Your task is to help a marketing team create a \n",
    "description for a retail website of a product based \n",
    "on a technical fact sheet.\n",
    "\n",
    "Write a product description based on the information \n",
    "provided in the technical specifications delimited by \n",
    "triple backticks.\n",
    "\n",
    "The description is intended for furniture retailers, \n",
    "so should be technical in nature and focus on the \n",
    "materials the product is constructed from.\n",
    "\n",
    "At the end of the description, include every 7-character \n",
    "Product ID in the technical specification.\n",
    "\n",
    "After the description, include a table that gives the \n",
    "product's dimensions. The table should have two columns.\n",
    "In the first column include the name of the dimension. \n",
    "In the second column include the measurements in inches only.\n",
    "\n",
    "Give the table the title 'Product Dimensions'.\n",
    "\n",
    "Format everything as HTML that can be used in a website. \n",
    "Place the description in a <div> element.\n",
    "\n",
    "Technical specifications: ```{fact_sheet_chair}```\n",
    "\"\"\"\n",
    "\n",
    "response = await get_completion(prompt)\n",
    "print(response)"
   ],
   "metadata": {
    "collapsed": false,
    "ExecuteTime": {
     "end_time": "2024-03-19T13:58:13.205745Z",
     "start_time": "2024-03-19T13:58:05.448402Z"
    }
   },
   "id": "2fbdfc719c79fd41",
   "execution_count": 15
  },
  {
   "cell_type": "markdown",
   "source": [
    "## Load Python libraries to view HTML"
   ],
   "metadata": {
    "collapsed": false
   },
   "id": "a3a87ae92f49c05d"
  },
  {
   "cell_type": "code",
   "outputs": [],
   "source": [
    "from IPython.display import display, HTML"
   ],
   "metadata": {
    "collapsed": false,
    "ExecuteTime": {
     "end_time": "2024-03-19T14:09:44.541059Z",
     "start_time": "2024-03-19T14:09:44.536241Z"
    }
   },
   "id": "9718c8a8259f7d0c",
   "execution_count": 16
  },
  {
   "cell_type": "code",
   "outputs": [
    {
     "data": {
      "text/plain": "<IPython.core.display.HTML object>",
      "text/html": "<div>\n<p>This mid-century inspired office chair is a versatile and stylish addition to any workspace. Constructed with a 5-wheel plastic coated aluminum base, this chair is durable and easy to move around. The pneumatic chair adjust feature allows for a seamless raise/lower action for personalized comfort.</p>\n<p>The seat of this chair is crafted with high-quality HD36 foam, ensuring long-lasting comfort and support. The shell base glider is made of cast aluminum with a modified nylon PA6/PA66 coating, providing a sleek and modern look. With a shell thickness of 10 mm, this chair is both sturdy and elegant.</p>\n<p>Available in a variety of shell colors and base finishes, as well as different upholstery options, this chair can be customized to fit any design aesthetic. Whether for home or business use, this chair is suitable for any setting and is qualified for contract use.</p>\n<p>Product ID: SWC-100, SWC-110</p>\n</div>\n\n<table>\n  <caption>Product Dimensions</caption>\n  <tr>\n    <th>Dimension</th>\n    <th>Measurements (in)</th>\n  </tr>\n  <tr>\n    <td>Width</td>\n    <td>20.87\"</td>\n  </tr>\n  <tr>\n    <td>Depth</td>\n    <td>20.08\"</td>\n  </tr>\n  <tr>\n    <td>Height</td>\n    <td>31.50\"</td>\n  </tr>\n  <tr>\n    <td>Seat Height</td>\n    <td>17.32\"</td>\n  </tr>\n  <tr>\n    <td>Seat Depth</td>\n    <td>16.14\"</td>\n  </tr>\n</table>"
     },
     "metadata": {},
     "output_type": "display_data"
    }
   ],
   "source": [
    "display(HTML(response))"
   ],
   "metadata": {
    "collapsed": false,
    "ExecuteTime": {
     "end_time": "2024-03-19T14:09:49.809807Z",
     "start_time": "2024-03-19T14:09:49.804355Z"
    }
   },
   "id": "34ad2206e74559e7",
   "execution_count": 17
  },
  {
   "cell_type": "code",
   "outputs": [],
   "source": [],
   "metadata": {
    "collapsed": false
   },
   "id": "919f9c70ee138708"
  }
 ],
 "metadata": {
  "kernelspec": {
   "display_name": "Python 3",
   "language": "python",
   "name": "python3"
  },
  "language_info": {
   "codemirror_mode": {
    "name": "ipython",
    "version": 2
   },
   "file_extension": ".py",
   "mimetype": "text/x-python",
   "name": "python",
   "nbconvert_exporter": "python",
   "pygments_lexer": "ipython2",
   "version": "2.7.6"
  }
 },
 "nbformat": 4,
 "nbformat_minor": 5
}
