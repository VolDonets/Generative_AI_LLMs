{
 "cells": [
  {
   "cell_type": "markdown",
   "source": [
    "# Guidelines for Prompting\n",
    "In this lesson, you'll practice two prompting principles and their related tactics in order to write effective prompts for large language models.\n",
    "\n",
    "## Setup\n",
    "#### Load the API key and relevant Python libaries."
   ],
   "metadata": {
    "collapsed": false
   },
   "id": "2a951c986abf2bd1"
  },
  {
   "cell_type": "markdown",
   "source": [
    "In this course, we've provided some code that loads the OpenAI API key for you."
   ],
   "metadata": {
    "collapsed": false
   },
   "id": "33fd8b47aa5c0c24"
  },
  {
   "cell_type": "code",
   "outputs": [],
   "source": [
    "import asyncio\n",
    "import openai\n",
    "import os"
   ],
   "metadata": {
    "collapsed": false,
    "ExecuteTime": {
     "end_time": "2024-03-19T12:46:52.323564Z",
     "start_time": "2024-03-19T12:46:51.531226Z"
    }
   },
   "id": "c65d4c8749e5e95c",
   "execution_count": 1
  },
  {
   "cell_type": "code",
   "outputs": [],
   "source": [
    "# from dotenv import load_dotenv, find_dotenv\n",
    "# _ = load_dotenv(find_dotenv())\n",
    "\n",
    "openai.api_key  = \"\"\n",
    "# openai.api_key  = os.getenv('OPENAI_API_KEY')"
   ],
   "metadata": {
    "collapsed": false,
    "ExecuteTime": {
     "end_time": "2024-03-19T12:48:32.720673Z",
     "start_time": "2024-03-19T12:48:32.709610Z"
    }
   },
   "id": "7e61159078c53b3c",
   "execution_count": 2
  },
  {
   "cell_type": "markdown",
   "source": [
    "helper function\n",
    "\n",
    "Throughout this course, we will use OpenAI's gpt-3.5-turbo model and the chat completions endpoint.\n",
    "\n",
    "This helper function will make it easier to use prompts and look at the generated outputs.\n",
    "Note: In June 2023, OpenAI updated gpt-3.5-turbo. The results you see in the notebook may be slightly different than those in the video. Some of the prompts have also been slightly modified to product the desired results.\n"
   ],
   "metadata": {
    "collapsed": false
   },
   "id": "675cb67ca82bce76"
  },
  {
   "cell_type": "code",
   "outputs": [],
   "source": [
    "client = openai.AsyncOpenAI(\n",
    "  api_key=openai.api_key,  # this is also the default, it can be omitted\n",
    ")\n",
    "\n",
    "\n",
    "async def get_completion(prompt_, model_=\"gpt-3.5-turbo\"):\n",
    "    messages_ = [{\"role\": \"user\", \"content\": prompt_}]\n",
    "    response_ = await client.chat.completions.create(\n",
    "        model=model_, \n",
    "        messages=messages_,\n",
    "    )\n",
    "    return response_.choices[0].message.content"
   ],
   "metadata": {
    "collapsed": false,
    "ExecuteTime": {
     "end_time": "2024-03-19T13:02:31.933514Z",
     "start_time": "2024-03-19T13:02:31.916947Z"
    }
   },
   "id": "2046d850768c4f3c",
   "execution_count": 35
  },
  {
   "cell_type": "markdown",
   "source": [
    "**Note:** This and all other lab notebooks of this course use OpenAI library version `0.27.0`. \n",
    "\n",
    "In order to use the OpenAI library version `1.0.0`, here is the code that you would use instead for the `get_completion` function:\n",
    "\n",
    "```python\n",
    "client = openai.OpenAI()\n",
    "\n",
    "def get_completion(prompt, model=\"gpt-3.5-turbo\"):\n",
    "    messages = [{\"role\": \"user\", \"content\": prompt}]\n",
    "    response = client.chat.completions.create(\n",
    "        model=model,\n",
    "        messages=messages,\n",
    "        temperature=0\n",
    "    )\n",
    "    return response.choices[0].message.content\n",
    "```"
   ],
   "metadata": {
    "collapsed": false
   },
   "id": "cafbe03b43b23e57"
  },
  {
   "cell_type": "markdown",
   "source": [
    "## Prompting Principles\n",
    "- **Principle 1: Write clear and specific instructions**\n",
    "- **Principle 2: Give the model time to “think”**\n",
    "\n",
    "### Tactics\n",
    "\n",
    "#### Tactic 1: Use delimiters to clearly indicate distinct parts of the input\n",
    "- Delimiters can be anything like: ```, \"\"\", < >, `<tag> </tag>`, `:`"
   ],
   "metadata": {
    "collapsed": false
   },
   "id": "ec18b771e7daec0e"
  },
  {
   "cell_type": "code",
   "outputs": [
    {
     "name": "stdout",
     "output_type": "stream",
     "text": [
      "Providing clear and specific instructions to a model will guide it towards the desired output, reducing the chances of irrelevant or incorrect responses, and longer prompts can enhance clarity and context for more detailed and relevant outcomes.\n"
     ]
    }
   ],
   "source": [
    "text = f\"\"\"\n",
    "You should express what you want a model to do by \\ \n",
    "providing instructions that are as clear and \\ \n",
    "specific as you can possibly make them. \\ \n",
    "This will guide the model towards the desired output, \\ \n",
    "and reduce the chances of receiving irrelevant \\ \n",
    "or incorrect responses. Don't confuse writing a \\ \n",
    "clear prompt with writing a short prompt. \\ \n",
    "In many cases, longer prompts provide more clarity \\ \n",
    "and context for the model, which can lead to \\ \n",
    "more detailed and relevant outputs.\n",
    "\"\"\"\n",
    "prompt = f\"\"\"\n",
    "Summarize the text delimited by triple backticks \\ \n",
    "into a single sentence.\n",
    "```{text}```\n",
    "\"\"\"\n",
    "\n",
    "response = await get_completion(prompt)\n",
    "print(response)"
   ],
   "metadata": {
    "collapsed": false,
    "ExecuteTime": {
     "end_time": "2024-03-19T13:02:43.346045Z",
     "start_time": "2024-03-19T13:02:41.861944Z"
    }
   },
   "id": "7a797f59a4afe411",
   "execution_count": 37
  },
  {
   "cell_type": "markdown",
   "source": [
    "#### Tactic 2: Ask for a structured output\n",
    "- JSON, HTML"
   ],
   "metadata": {
    "collapsed": false
   },
   "id": "833edc2ed8d6a0c8"
  },
  {
   "cell_type": "code",
   "outputs": [
    {
     "name": "stdout",
     "output_type": "stream",
     "text": [
      "[\n",
      "    {\n",
      "        \"book_id\": 1,\n",
      "        \"title\": \"Under the Midnight Sky\",\n",
      "        \"author\": \"Sophia Rain\",\n",
      "        \"genre\": \"Fantasy\"\n",
      "    },\n",
      "    {\n",
      "        \"book_id\": 2,\n",
      "        \"title\": \"Echoes of the Forgotten\",\n",
      "        \"author\": \"Elena Fox\",\n",
      "        \"genre\": \"Mystery\"\n",
      "    },\n",
      "    {\n",
      "        \"book_id\": 3,\n",
      "        \"title\": \"Whispers in the Wind\",\n",
      "        \"author\": \"Liam Stone\",\n",
      "        \"genre\": \"Romance\"\n",
      "    }\n",
      "]\n"
     ]
    }
   ],
   "source": [
    "prompt = f\"\"\"\n",
    "Generate a list of three made-up book titles along \\ \n",
    "with their authors and genres. \n",
    "Provide them in JSON format with the following keys: \n",
    "book_id, title, author, genre.\n",
    "\"\"\"\n",
    "\n",
    "response = await get_completion(prompt)\n",
    "print(response)"
   ],
   "metadata": {
    "collapsed": false,
    "ExecuteTime": {
     "end_time": "2024-03-19T13:03:03.325970Z",
     "start_time": "2024-03-19T13:03:00.387437Z"
    }
   },
   "id": "a1f3c20081060a3b",
   "execution_count": 38
  },
  {
   "cell_type": "markdown",
   "source": [
    "#### Tactic 3: Ask the model to check whether conditions are satisfied"
   ],
   "metadata": {
    "collapsed": false
   },
   "id": "d66690ae33f9dfca"
  },
  {
   "cell_type": "code",
   "outputs": [
    {
     "name": "stdout",
     "output_type": "stream",
     "text": [
      "Completion for Text 1:\n",
      "\n",
      "Step 1 - Get some water boiling.\n",
      "Step 2 - Grab a cup and put a tea bag in it.\n",
      "Step 3 - Once the water is hot enough, pour it over the tea bag.\n",
      "Step 4 - Let it sit for a bit so the tea can steep.\n",
      "Step 5 - After a few minutes, take out the tea bag.\n",
      "Step 6 - Add some sugar or milk to taste.\n",
      "Step 7 - Enjoy your delicious cup of tea.\n"
     ]
    }
   ],
   "source": [
    "text_1 = f\"\"\"\n",
    "Making a cup of tea is easy! First, you need to get some \\ \n",
    "water boiling. While that's happening, \\ \n",
    "grab a cup and put a tea bag in it. Once the water is \\ \n",
    "hot enough, just pour it over the tea bag. \\ \n",
    "Let it sit for a bit so the tea can steep. After a \\ \n",
    "few minutes, take out the tea bag. If you \\ \n",
    "like, you can add some sugar or milk to taste. \\ \n",
    "And that's it! You've got yourself a delicious \\ \n",
    "cup of tea to enjoy.\n",
    "\"\"\"\n",
    "prompt = f\"\"\"\n",
    "You will be provided with text delimited by triple quotes. \n",
    "If it contains a sequence of instructions, \\ \n",
    "re-write those instructions in the following format:\n",
    "\n",
    "Step 1 - ...\n",
    "Step 2 - …\n",
    "…\n",
    "Step N - …\n",
    "\n",
    "If the text does not contain a sequence of instructions, \\ \n",
    "then simply write \\\"No steps provided.\\\"\n",
    "\n",
    "\\\"\\\"\\\"{text_1}\\\"\\\"\\\"\n",
    "\"\"\"\n",
    "\n",
    "response = await get_completion(prompt)\n",
    "print(\"Completion for Text 1:\")\n",
    "print(response)"
   ],
   "metadata": {
    "collapsed": false,
    "ExecuteTime": {
     "end_time": "2024-03-19T13:03:40.246309Z",
     "start_time": "2024-03-19T13:03:37.581199Z"
    }
   },
   "id": "60a4fd63f0d7291b",
   "execution_count": 39
  },
  {
   "cell_type": "code",
   "outputs": [
    {
     "name": "stdout",
     "output_type": "stream",
     "text": [
      "Completion for Text 2:\n",
      "No steps provided.\n"
     ]
    }
   ],
   "source": [
    "text_2 = f\"\"\"\n",
    "The sun is shining brightly today, and the birds are \\\n",
    "singing. It's a beautiful day to go for a \\ \n",
    "walk in the park. The flowers are blooming, and the \\ \n",
    "trees are swaying gently in the breeze. People \\ \n",
    "are out and about, enjoying the lovely weather. \\ \n",
    "Some are having picnics, while others are playing \\ \n",
    "games or simply relaxing on the grass. It's a \\ \n",
    "perfect day to spend time outdoors and appreciate the \\ \n",
    "beauty of nature.\n",
    "\"\"\"\n",
    "prompt = f\"\"\"\n",
    "You will be provided with text delimited by triple quotes. \n",
    "If it contains a sequence of instructions, \\ \n",
    "re-write those instructions in the following format:\n",
    "\n",
    "Step 1 - ...\n",
    "Step 2 - …\n",
    "…\n",
    "Step N - …\n",
    "\n",
    "If the text does not contain a sequence of instructions, \\ \n",
    "then simply write \\\"No steps provided.\\\"\n",
    "\n",
    "\\\"\\\"\\\"{text_2}\\\"\\\"\\\"\n",
    "\"\"\"\n",
    "response = await get_completion(prompt)\n",
    "print(\"Completion for Text 2:\")\n",
    "print(response)"
   ],
   "metadata": {
    "collapsed": false,
    "ExecuteTime": {
     "end_time": "2024-03-19T13:03:48.727015Z",
     "start_time": "2024-03-19T13:03:47.683406Z"
    }
   },
   "id": "13a13b756cf9ac5a",
   "execution_count": 40
  },
  {
   "cell_type": "markdown",
   "source": [
    "#### Tactic 4: \"Few-shot\" prompting"
   ],
   "metadata": {
    "collapsed": false
   },
   "id": "12bb9da7b3efa574"
  },
  {
   "cell_type": "code",
   "outputs": [
    {
     "name": "stdout",
     "output_type": "stream",
     "text": [
      "<grandparent>: The oak tree stands tall because it bends with the wind; the lotus flower blooms in muddy waters; the phoenix rises from its own ashes. Resilience is the strength to endure, adapt, and grow through life's challenges.\n"
     ]
    }
   ],
   "source": [
    "prompt = f\"\"\"\n",
    "Your task is to answer in a consistent style.\n",
    "\n",
    "<child>: Teach me about patience.\n",
    "\n",
    "<grandparent>: The river that carves the deepest \\ \n",
    "valley flows from a modest spring; the \\ \n",
    "grandest symphony originates from a single note; \\ \n",
    "the most intricate tapestry begins with a solitary thread.\n",
    "\n",
    "<child>: Teach me about resilience.\n",
    "\"\"\"\n",
    "response = await get_completion(prompt)\n",
    "print(response)"
   ],
   "metadata": {
    "collapsed": false,
    "ExecuteTime": {
     "end_time": "2024-03-19T13:03:58.426420Z",
     "start_time": "2024-03-19T13:03:56.975243Z"
    }
   },
   "id": "e6c4d37036b8dbc7",
   "execution_count": 41
  },
  {
   "cell_type": "markdown",
   "source": [
    "### Principle 2: Give the model time to “think” \n",
    "\n",
    "#### Tactic 1: Specify the steps required to complete a task"
   ],
   "metadata": {
    "collapsed": false
   },
   "id": "83ccf9ca69abd718"
  },
  {
   "cell_type": "code",
   "outputs": [
    {
     "name": "stdout",
     "output_type": "stream",
     "text": [
      "Completion for prompt 1:\n",
      "<grandparent>: Like a tree that bends but does not break \\ \n",
      "in the face of strong winds, resilience is the \\ \n",
      "ability to bounce back from adversity and \\ \n",
      "continue to grow and thrive. It is the inner strength \\ \n",
      "that allows us to persevere in the face of challenges \\ \n",
      "and setbacks.\n"
     ]
    }
   ],
   "source": [
    "text = f\"\"\"\n",
    "In a charming village, siblings Jack and Jill set out on \\ \n",
    "a quest to fetch water from a hilltop \\ \n",
    "well. As they climbed, singing joyfully, misfortune \\ \n",
    "struck—Jack tripped on a stone and tumbled \\ \n",
    "down the hill, with Jill following suit. \\ \n",
    "Though slightly battered, the pair returned home to \\ \n",
    "comforting embraces. Despite the mishap, \\ \n",
    "their adventurous spirits remained undimmed, and they \\ \n",
    "continued exploring with delight.\n",
    "\"\"\"\n",
    "# example 1\n",
    "prompt_1 = f\"\"\"\n",
    "Perform the following actions: \n",
    "1 - Summarize the following text delimited by triple \\\n",
    "backticks with 1 sentence.\n",
    "2 - Translate the summary into French.\n",
    "3 - List each name in the French summary.\n",
    "4 - Output a json object that contains the following \\\n",
    "keys: french_summary, num_names.\n",
    "\n",
    "Separate your answers with line breaks.\n",
    "\n",
    "Text:\n",
    "```{text}```\n",
    "\"\"\"\n",
    "response = await get_completion(prompt)\n",
    "print(\"Completion for prompt 1:\")\n",
    "print(response)"
   ],
   "metadata": {
    "collapsed": false,
    "ExecuteTime": {
     "end_time": "2024-03-19T13:04:13.719474Z",
     "start_time": "2024-03-19T13:04:11.604987Z"
    }
   },
   "id": "1179a7839d4897cf",
   "execution_count": 42
  },
  {
   "cell_type": "markdown",
   "source": [
    "#### Ask for output in a specified format"
   ],
   "metadata": {
    "collapsed": false
   },
   "id": "376a606aaa6195c3"
  },
  {
   "cell_type": "code",
   "outputs": [
    {
     "name": "stdout",
     "output_type": "stream",
     "text": [
      "\n",
      "Completion for prompt 2:\n",
      "<grandparent>: The tallest tree in the forest \\ \n",
      "has weathered the strongest storms; \\ \n",
      "the diamond that shines the brightest \\ \n",
      "has endured the most pressure; \\ \n",
      "the phoenix that rises from the ashes \\ \n",
      "has faced the hottest flames.\n"
     ]
    }
   ],
   "source": [
    "prompt_2 = f\"\"\"\n",
    "Your task is to perform the following actions: \n",
    "1 - Summarize the following text delimited by \n",
    "  <> with 1 sentence.\n",
    "2 - Translate the summary into French.\n",
    "3 - List each name in the French summary.\n",
    "4 - Output a json object that contains the \n",
    "  following keys: french_summary, num_names.\n",
    "\n",
    "Use the following format:\n",
    "Text: <text to summarize>\n",
    "Summary: <summary>\n",
    "Translation: <summary translation>\n",
    "Names: <list of names in summary>\n",
    "Output JSON: <json with summary and num_names>\n",
    "\n",
    "Text: <{text}>\n",
    "\"\"\"\n",
    "response = await get_completion(prompt)\n",
    "print(\"\\nCompletion for prompt 2:\")\n",
    "print(response)"
   ],
   "metadata": {
    "collapsed": false,
    "ExecuteTime": {
     "end_time": "2024-03-19T13:04:27.320705Z",
     "start_time": "2024-03-19T13:04:25.608172Z"
    }
   },
   "id": "6f877cf6645c018e",
   "execution_count": 43
  },
  {
   "cell_type": "markdown",
   "source": [
    "#### Tactic 2: Instruct the model to work out its own solution before rushing to a conclusion"
   ],
   "metadata": {
    "collapsed": false
   },
   "id": "5a14826e61122e4b"
  },
  {
   "cell_type": "code",
   "outputs": [
    {
     "name": "stdout",
     "output_type": "stream",
     "text": [
      "The student's solution is correct. The total cost for the first year of operations as a function of the number of square feet is 450x + 100,000.\n"
     ]
    }
   ],
   "source": [
    "prompt = f\"\"\"\n",
    "Determine if the student's solution is correct or not.\n",
    "\n",
    "Question:\n",
    "I'm building a solar power installation and I need \\\n",
    " help working out the financials. \n",
    "- Land costs $100 / square foot\n",
    "- I can buy solar panels for $250 / square foot\n",
    "- I negotiated a contract for maintenance that will cost \\ \n",
    "me a flat $100k per year, and an additional $10 / square \\\n",
    "foot\n",
    "What is the total cost for the first year of operations \n",
    "as a function of the number of square feet.\n",
    "\n",
    "Student's Solution:\n",
    "Let x be the size of the installation in square feet.\n",
    "Costs:\n",
    "1. Land cost: 100x\n",
    "2. Solar panel cost: 250x\n",
    "3. Maintenance cost: 100,000 + 100x\n",
    "Total cost: 100x + 250x + 100,000 + 100x = 450x + 100,000\n",
    "\"\"\"\n",
    "response = await get_completion(prompt)\n",
    "print(response)"
   ],
   "metadata": {
    "collapsed": false,
    "ExecuteTime": {
     "end_time": "2024-03-19T13:04:39.085898Z",
     "start_time": "2024-03-19T13:04:37.689215Z"
    }
   },
   "id": "d19496c54ac4db6b",
   "execution_count": 44
  },
  {
   "cell_type": "markdown",
   "source": [
    "#### Note that the student's solution is actually not correct.\n",
    "#### We can fix this by instructing the model to work out its own solution first."
   ],
   "metadata": {
    "collapsed": false
   },
   "id": "e90d987d66bc85d2"
  },
  {
   "cell_type": "code",
   "outputs": [
    {
     "name": "stdout",
     "output_type": "stream",
     "text": [
      "The actual solution is correct. \n",
      "\n",
      "Total cost = (Land cost + Solar panel cost + Maintenance cost) = (100x + 250x + 100,000 + 10x) = 360x + 100,000.\n",
      "\n",
      "Is the student's solution the same as the actual solution calculated:\n",
      "```\n",
      "No\n",
      "```\n",
      "Student grade:\n",
      "```\n",
      "Incorrect\n",
      "```\n"
     ]
    }
   ],
   "source": [
    "prompt = f\"\"\"\n",
    "Your task is to determine if the student's solution \\\n",
    "is correct or not.\n",
    "To solve the problem do the following:\n",
    "- First, work out your own solution to the problem including the final total. \n",
    "- Then compare your solution to the student's solution \\ \n",
    "and evaluate if the student's solution is correct or not. \n",
    "Don't decide if the student's solution is correct until \n",
    "you have done the problem yourself.\n",
    "\n",
    "Use the following format:\n",
    "Question:\n",
    "```\n",
    "question here\n",
    "```\n",
    "Student's solution:\n",
    "```\n",
    "student's solution here\n",
    "```\n",
    "Actual solution:\n",
    "```\n",
    "steps to work out the solution and your solution here\n",
    "```\n",
    "Is the student's solution the same as actual solution \\\n",
    "just calculated:\n",
    "```\n",
    "yes or no\n",
    "```\n",
    "Student grade:\n",
    "```\n",
    "correct or incorrect\n",
    "```\n",
    "\n",
    "Question:\n",
    "```\n",
    "I'm building a solar power installation and I need help \\\n",
    "working out the financials. \n",
    "- Land costs $100 / square foot\n",
    "- I can buy solar panels for $250 / square foot\n",
    "- I negotiated a contract for maintenance that will cost \\\n",
    "me a flat $100k per year, and an additional $10 / square \\\n",
    "foot\n",
    "What is the total cost for the first year of operations \\\n",
    "as a function of the number of square feet.\n",
    "``` \n",
    "Student's solution:\n",
    "```\n",
    "Let x be the size of the installation in square feet.\n",
    "Costs:\n",
    "1. Land cost: 100x\n",
    "2. Solar panel cost: 250x\n",
    "3. Maintenance cost: 100,000 + 100x\n",
    "Total cost: 100x + 250x + 100,000 + 100x = 450x + 100,000\n",
    "```\n",
    "Actual solution:\n",
    "\"\"\"\n",
    "response = await get_completion(prompt)\n",
    "print(response)"
   ],
   "metadata": {
    "collapsed": false,
    "ExecuteTime": {
     "end_time": "2024-03-19T13:04:51.521306Z",
     "start_time": "2024-03-19T13:04:49.569760Z"
    }
   },
   "id": "d0e6a59201dd5de2",
   "execution_count": 45
  },
  {
   "cell_type": "markdown",
   "source": [
    "## Model Limitations: Hallucinations\n",
    "- Boie is a real company, the product name is not real."
   ],
   "metadata": {
    "collapsed": false
   },
   "id": "16da235461acdbfc"
  },
  {
   "cell_type": "code",
   "outputs": [
    {
     "name": "stdout",
     "output_type": "stream",
     "text": [
      "The AeroGlide UltraSlim Smart Toothbrush by Boie is a high-tech toothbrush that offers a slim and sleek design for easy handling and comfort during brushing. This toothbrush is equipped with smart technology that helps track your brushing habits and provides real-time feedback to help improve your oral hygiene routine.\n",
      "\n",
      "The Boie toothbrush features a long-lasting battery that can be easily recharged with a USB cable, eliminating the need for disposable batteries. It also comes with soft, gentle bristles that are safe for sensitive gums and teeth.\n",
      "\n",
      "Additionally, the AeroGlide UltraSlim Smart Toothbrush is made from high-quality, antimicrobial materials that prevent bacteria build-up and ensure a clean brushing experience. Overall, this toothbrush offers a modern and effective way to maintain good oral health.\n"
     ]
    }
   ],
   "source": [
    "prompt = f\"\"\"\n",
    "Tell me about AeroGlide UltraSlim Smart Toothbrush by Boie\n",
    "\"\"\"\n",
    "response = await get_completion(prompt)\n",
    "print(response)"
   ],
   "metadata": {
    "collapsed": false,
    "ExecuteTime": {
     "end_time": "2024-03-19T13:05:01.483031Z",
     "start_time": "2024-03-19T13:04:57.648026Z"
    }
   },
   "id": "5fcc363a03102646",
   "execution_count": 46
  },
  {
   "cell_type": "markdown",
   "source": [
    "## Try experimenting on your own!"
   ],
   "metadata": {
    "collapsed": false
   },
   "id": "74fd8aba9e20b69b"
  },
  {
   "cell_type": "markdown",
   "source": [
    "#### Notes on using the OpenAI API outside of this classroom\n",
    "\n",
    "To install the OpenAI Python library:\n",
    "```\n",
    "!pip install openai\n",
    "```\n",
    "\n",
    "The library needs to be configured with your account's secret key, which is available on the [website](https://platform.openai.com/account/api-keys). \n",
    "\n",
    "You can either set it as the `OPENAI_API_KEY` environment variable before using the library:\n",
    " ```\n",
    " !export OPENAI_API_KEY='sk-...'\n",
    " ```\n",
    "\n",
    "Or, set `openai.api_key` to its value:\n",
    "\n",
    "```\n",
    "import openai\n",
    "openai.api_key = \"sk-...\"\n",
    "```"
   ],
   "metadata": {
    "collapsed": false
   },
   "id": "35d94e5412641379"
  },
  {
   "cell_type": "markdown",
   "source": [
    "#### A note about the backslash\n",
    "- In the course, we are using a backslash `\\` to make the text fit on the screen without inserting newline '\\n' characters.\n",
    "- GPT-3 isn't really affected whether you insert newline characters or not.  But when working with LLMs in general, you may consider whether newline characters in your prompt may affect the model's performance."
   ],
   "metadata": {
    "collapsed": false
   },
   "id": "c346e0dfacd54200"
  },
  {
   "cell_type": "code",
   "outputs": [],
   "source": [],
   "metadata": {
    "collapsed": false
   },
   "id": "b8f996ce45c71c90"
  }
 ],
 "metadata": {
  "kernelspec": {
   "display_name": "Python 3",
   "language": "python",
   "name": "python3"
  },
  "language_info": {
   "codemirror_mode": {
    "name": "ipython",
    "version": 2
   },
   "file_extension": ".py",
   "mimetype": "text/x-python",
   "name": "python",
   "nbconvert_exporter": "python",
   "pygments_lexer": "ipython2",
   "version": "2.7.6"
  }
 },
 "nbformat": 4,
 "nbformat_minor": 5
}
