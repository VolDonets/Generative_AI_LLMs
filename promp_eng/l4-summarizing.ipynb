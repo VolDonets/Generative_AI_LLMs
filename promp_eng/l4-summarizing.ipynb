{
 "cells": [
  {
   "cell_type": "markdown",
   "source": [
    "# Summarizing\n",
    "In this lesson, you will summarize text with a focus on specific topics.\n",
    "\n",
    "## Setup"
   ],
   "metadata": {
    "collapsed": false
   },
   "id": "d56218d7f16f609e"
  },
  {
   "cell_type": "code",
   "outputs": [],
   "source": [
    "import openai\n",
    "import os\n",
    "\n",
    "# from dotenv import load_dotenv, find_dotenv\n",
    "# _ = load_dotenv(find_dotenv()) # read local .env file\n",
    "\n",
    "# openai.api_key  = os.getenv('OPENAI_API_KEY')\n",
    "openai.api_key  = \"\""
   ],
   "metadata": {
    "collapsed": false,
    "ExecuteTime": {
     "end_time": "2024-03-19T14:22:03.863784Z",
     "start_time": "2024-03-19T14:22:03.859166Z"
    }
   },
   "id": "9b36d8a976c5d02",
   "execution_count": 2
  },
  {
   "cell_type": "code",
   "outputs": [],
   "source": [
    "client = openai.AsyncOpenAI(\n",
    "  api_key=openai.api_key,  # this is also the default, it can be omitted\n",
    ")\n",
    "\n",
    "\n",
    "async def get_completion(prompt_, model_=\"gpt-3.5-turbo\"):\n",
    "    messages_ = [{\"role\": \"user\", \"content\": prompt_}]\n",
    "    response_ = await client.chat.completions.create(\n",
    "        model=model_, \n",
    "        messages=messages_,\n",
    "    )\n",
    "    return response_.choices[0].message.content"
   ],
   "metadata": {
    "collapsed": false,
    "ExecuteTime": {
     "end_time": "2024-03-19T14:22:06.002330Z",
     "start_time": "2024-03-19T14:22:05.984617Z"
    }
   },
   "id": "9005231181b61ce6",
   "execution_count": 3
  },
  {
   "cell_type": "markdown",
   "source": [
    "## Text to summarize"
   ],
   "metadata": {
    "collapsed": false
   },
   "id": "c637c8234d821598"
  },
  {
   "cell_type": "code",
   "outputs": [],
   "source": [
    "prod_review = \"\"\"\n",
    "Got this panda plush toy for my daughter's birthday, \\\n",
    "who loves it and takes it everywhere. It's soft and \\ \n",
    "super cute, and its face has a friendly look. It's \\ \n",
    "a bit small for what I paid though. I think there \\ \n",
    "might be other options that are bigger for the \\ \n",
    "same price. It arrived a day earlier than expected, \\ \n",
    "so I got to play with it myself before I gave it \\ \n",
    "to her.\n",
    "\"\"\""
   ],
   "metadata": {
    "collapsed": false,
    "ExecuteTime": {
     "end_time": "2024-03-19T14:22:29.791148Z",
     "start_time": "2024-03-19T14:22:29.786572Z"
    }
   },
   "id": "adb9e51dd66d7e07",
   "execution_count": 4
  },
  {
   "cell_type": "markdown",
   "source": [
    "## Summarize with a word/sentence/character limit"
   ],
   "metadata": {
    "collapsed": false
   },
   "id": "6f0d6825b5cb4c6d"
  },
  {
   "cell_type": "code",
   "outputs": [
    {
     "name": "stdout",
     "output_type": "stream",
     "text": [
      "Summary: \n",
      "Cute and soft panda plush toy loved by daughter, but smaller than expected for the price. Arrived early, allowing for some play time beforehand.\n"
     ]
    }
   ],
   "source": [
    "prompt = f\"\"\"\n",
    "Your task is to generate a short summary of a product \\\n",
    "review from an ecommerce site. \n",
    "\n",
    "Summarize the review below, delimited by triple \n",
    "backticks, in at most 30 words. \n",
    "\n",
    "Review: ```{prod_review}```\n",
    "\"\"\"\n",
    "\n",
    "response = await get_completion(prompt)\n",
    "print(response)"
   ],
   "metadata": {
    "collapsed": false,
    "ExecuteTime": {
     "end_time": "2024-03-19T14:23:09.002685Z",
     "start_time": "2024-03-19T14:23:07.917560Z"
    }
   },
   "id": "e3876f75194bab10",
   "execution_count": 7
  },
  {
   "cell_type": "markdown",
   "source": [
    "## Summarize with a focus on shipping and delivery"
   ],
   "metadata": {
    "collapsed": false
   },
   "id": "9479f2929d9c7d4b"
  },
  {
   "cell_type": "code",
   "outputs": [
    {
     "name": "stdout",
     "output_type": "stream",
     "text": [
      "The product arrived a day early, which was a pleasant surprise, but the reviewer wished it was bigger for the price paid.\n"
     ]
    }
   ],
   "source": [
    "prompt = f\"\"\"\n",
    "Your task is to generate a short summary of a product \\\n",
    "review from an ecommerce site to give feedback to the \\\n",
    "Shipping deparmtment. \n",
    "\n",
    "Summarize the review below, delimited by triple \n",
    "backticks, in at most 30 words, and focusing on any aspects \\\n",
    "that mention shipping and delivery of the product. \n",
    "\n",
    "Review: ```{prod_review}```\n",
    "\"\"\"\n",
    "\n",
    "response = await get_completion(prompt)\n",
    "print(response)\n"
   ],
   "metadata": {
    "collapsed": false,
    "ExecuteTime": {
     "end_time": "2024-03-19T14:23:46.877707Z",
     "start_time": "2024-03-19T14:23:45.957247Z"
    }
   },
   "id": "9296d401e4493806",
   "execution_count": 10
  },
  {
   "cell_type": "markdown",
   "source": [
    "## Summarize with a focus on price and value"
   ],
   "metadata": {
    "collapsed": false
   },
   "id": "e25dd291c57950eb"
  },
  {
   "cell_type": "code",
   "outputs": [
    {
     "name": "stdout",
     "output_type": "stream",
     "text": [
      "Summary: \n",
      "Customer loves the cute panda plush toy but feels it's a bit small for the price, suggesting larger options at the same price point may offer better value.\n"
     ]
    }
   ],
   "source": [
    "prompt = f\"\"\"\n",
    "Your task is to generate a short summary of a product \\\n",
    "review from an ecommerce site to give feedback to the \\\n",
    "pricing deparmtment, responsible for determining the \\\n",
    "price of the product.  \n",
    "\n",
    "Summarize the review below, delimited by triple \n",
    "backticks, in at most 30 words, and focusing on any aspects \\\n",
    "that are relevant to the price and perceived value. \n",
    "\n",
    "Review: ```{prod_review}```\n",
    "\"\"\"\n",
    "\n",
    "response = await get_completion(prompt)\n",
    "print(response)\n"
   ],
   "metadata": {
    "collapsed": false,
    "ExecuteTime": {
     "end_time": "2024-03-19T14:24:25.863348Z",
     "start_time": "2024-03-19T14:24:24.296660Z"
    }
   },
   "id": "c6854a7d840a052d",
   "execution_count": 13
  },
  {
   "cell_type": "markdown",
   "source": [
    "#### Comment\n",
    "- Summaries include topics that are not related to the topic of focus."
   ],
   "metadata": {
    "collapsed": false
   },
   "id": "9be0072c1f0e129e"
  },
  {
   "cell_type": "markdown",
   "source": [
    "## Try \"extract\" instead of \"summarize\""
   ],
   "metadata": {
    "collapsed": false
   },
   "id": "6e3f517122689b9c"
  },
  {
   "cell_type": "code",
   "outputs": [
    {
     "name": "stdout",
     "output_type": "stream",
     "text": [
      "Feedback: The product arrived a day earlier than expected, allowing the customer to play with it before gifting it. Delivery was prompt.\n"
     ]
    }
   ],
   "source": [
    "prompt = f\"\"\"\n",
    "Your task is to extract relevant information from \\ \n",
    "a product review from an ecommerce site to give \\\n",
    "feedback to the Shipping department. \n",
    "\n",
    "From the review below, delimited by triple quotes \\\n",
    "extract the information relevant to shipping and \\ \n",
    "delivery. Limit to 30 words. \n",
    "\n",
    "Review: ```{prod_review}```\n",
    "\"\"\"\n",
    "\n",
    "response = await get_completion(prompt)\n",
    "print(response)"
   ],
   "metadata": {
    "collapsed": false,
    "ExecuteTime": {
     "end_time": "2024-03-19T14:25:14.894243Z",
     "start_time": "2024-03-19T14:25:13.586144Z"
    }
   },
   "id": "7d98d3041256afe9",
   "execution_count": 16
  },
  {
   "cell_type": "markdown",
   "source": [
    "## Summarize multiple product reviews"
   ],
   "metadata": {
    "collapsed": false
   },
   "id": "2b5eddf7add814a1"
  },
  {
   "cell_type": "code",
   "outputs": [],
   "source": [
    "\n",
    "review_1 = prod_review \n",
    "\n",
    "# review for a standing lamp\n",
    "review_2 = \"\"\"\n",
    "Needed a nice lamp for my bedroom, and this one \\\n",
    "had additional storage and not too high of a price \\\n",
    "point. Got it fast - arrived in 2 days. The string \\\n",
    "to the lamp broke during the transit and the company \\\n",
    "happily sent over a new one. Came within a few days \\\n",
    "as well. It was easy to put together. Then I had a \\\n",
    "missing part, so I contacted their support and they \\\n",
    "very quickly got me the missing piece! Seems to me \\\n",
    "to be a great company that cares about their customers \\\n",
    "and products. \n",
    "\"\"\"\n",
    "\n",
    "# review for an electric toothbrush\n",
    "review_3 = \"\"\"\n",
    "My dental hygienist recommended an electric toothbrush, \\\n",
    "which is why I got this. The battery life seems to be \\\n",
    "pretty impressive so far. After initial charging and \\\n",
    "leaving the charger plugged in for the first week to \\\n",
    "condition the battery, I've unplugged the charger and \\\n",
    "been using it for twice daily brushing for the last \\\n",
    "3 weeks all on the same charge. But the toothbrush head \\\n",
    "is too small. I’ve seen baby toothbrushes bigger than \\\n",
    "this one. I wish the head was bigger with different \\\n",
    "length bristles to get between teeth better because \\\n",
    "this one doesn’t.  Overall if you can get this one \\\n",
    "around the $50 mark, it's a good deal. The manufactuer's \\\n",
    "replacements heads are pretty expensive, but you can \\\n",
    "get generic ones that're more reasonably priced. This \\\n",
    "toothbrush makes me feel like I've been to the dentist \\\n",
    "every day. My teeth feel sparkly clean! \n",
    "\"\"\"\n",
    "\n",
    "# review for a blender\n",
    "review_4 = \"\"\"\n",
    "So, they still had the 17 piece system on seasonal \\\n",
    "sale for around $49 in the month of November, about \\\n",
    "half off, but for some reason (call it price gouging) \\\n",
    "around the second week of December the prices all went \\\n",
    "up to about anywhere from between $70-$89 for the same \\\n",
    "system. And the 11 piece system went up around $10 or \\\n",
    "so in price also from the earlier sale price of $29. \\\n",
    "So it looks okay, but if you look at the base, the part \\\n",
    "where the blade locks into place doesn’t look as good \\\n",
    "as in previous editions from a few years ago, but I \\\n",
    "plan to be very gentle with it (example, I crush \\\n",
    "very hard items like beans, ice, rice, etc. in the \\ \n",
    "blender first then pulverize them in the serving size \\\n",
    "I want in the blender then switch to the whipping \\\n",
    "blade for a finer flour, and use the cross cutting blade \\\n",
    "first when making smoothies, then use the flat blade \\\n",
    "if I need them finer/less pulpy). Special tip when making \\\n",
    "smoothies, finely cut and freeze the fruits and \\\n",
    "vegetables (if using spinach-lightly stew soften the \\ \n",
    "spinach then freeze until ready for use-and if making \\\n",
    "sorbet, use a small to medium sized food processor) \\ \n",
    "that you plan to use that way you can avoid adding so \\\n",
    "much ice if at all-when making your smoothie. \\\n",
    "After about a year, the motor was making a funny noise. \\\n",
    "I called customer service but the warranty expired \\\n",
    "already, so I had to buy another one. FYI: The overall \\\n",
    "quality has gone done in these types of products, so \\\n",
    "they are kind of counting on brand recognition and \\\n",
    "consumer loyalty to maintain sales. Got it in about \\\n",
    "two days.\n",
    "\"\"\"\n",
    "\n",
    "reviews = [review_1, review_2, review_3, review_4]"
   ],
   "metadata": {
    "collapsed": false,
    "ExecuteTime": {
     "end_time": "2024-03-19T14:25:43.625721Z",
     "start_time": "2024-03-19T14:25:43.620566Z"
    }
   },
   "id": "35500a5b716bc107",
   "execution_count": 17
  },
  {
   "cell_type": "code",
   "outputs": [
    {
     "name": "stdout",
     "output_type": "stream",
     "text": [
      "0 Soft, cute panda plush, loved by daughter, arrived early, smaller than expected for the price. \n",
      "1 Great lamp with storage, fast shipping, excellent customer service for missing parts - satisfied customer. \n",
      "2 Impressive battery life but small toothbrush head. Good deal for $50, generic replacement heads available. Dentist-level clean. \n",
      "3 Summary: Inconsistent pricing, declining quality, but useful tips for efficient use and smoothie making. Warranty concerns. \n"
     ]
    }
   ],
   "source": [
    "for i in range(len(reviews)):\n",
    "    prompt = f\"\"\"\n",
    "    Your task is to generate a short summary of a product \\ \n",
    "    review from an ecommerce site. \n",
    "\n",
    "    Summarize the review below, delimited by triple \\\n",
    "    backticks in at most 20 words. \n",
    "\n",
    "    Review: ```{reviews[i]}```\n",
    "    \"\"\"\n",
    "\n",
    "    response = await get_completion(prompt)\n",
    "    print(i, response, \"\\n\")"
   ],
   "metadata": {
    "collapsed": false,
    "ExecuteTime": {
     "end_time": "2024-03-19T14:25:59.668925Z",
     "start_time": "2024-03-19T14:25:55.447092Z"
    }
   },
   "id": "e183d205cccd3a06",
   "execution_count": 18
  },
  {
   "cell_type": "markdown",
   "source": [
    "## Try experimenting on your own!"
   ],
   "metadata": {
    "collapsed": false
   },
   "id": "4a005a2e8b9e784f"
  },
  {
   "cell_type": "code",
   "outputs": [],
   "source": [],
   "metadata": {
    "collapsed": false
   },
   "id": "387357003a0e08a4"
  }
 ],
 "metadata": {
  "kernelspec": {
   "display_name": "Python 3",
   "language": "python",
   "name": "python3"
  },
  "language_info": {
   "codemirror_mode": {
    "name": "ipython",
    "version": 2
   },
   "file_extension": ".py",
   "mimetype": "text/x-python",
   "name": "python",
   "nbconvert_exporter": "python",
   "pygments_lexer": "ipython2",
   "version": "2.7.6"
  }
 },
 "nbformat": 4,
 "nbformat_minor": 5
}
